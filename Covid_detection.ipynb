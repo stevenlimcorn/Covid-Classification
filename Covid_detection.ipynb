{
  "nbformat": 4,
  "nbformat_minor": 0,
  "metadata": {
    "kernelspec": {
      "language": "python",
      "display_name": "Python 3",
      "name": "python3"
    },
    "language_info": {
      "name": "python",
      "version": "3.7.10",
      "mimetype": "text/x-python",
      "codemirror_mode": {
        "name": "ipython",
        "version": 3
      },
      "pygments_lexer": "ipython3",
      "nbconvert_exporter": "python",
      "file_extension": ".py"
    },
    "colab": {
      "name": "Covid_detection.ipynb",
      "provenance": [],
      "collapsed_sections": [],
      "include_colab_link": true
    },
    "accelerator": "GPU",
    "widgets": {
      "application/vnd.jupyter.widget-state+json": {
        "55d0cf57cbd449359e29389c20e29bec": {
          "model_module": "@jupyter-widgets/controls",
          "model_name": "HBoxModel",
          "state": {
            "_view_name": "HBoxView",
            "_dom_classes": [],
            "_model_name": "HBoxModel",
            "_view_module": "@jupyter-widgets/controls",
            "_model_module_version": "1.5.0",
            "_view_count": null,
            "_view_module_version": "1.5.0",
            "box_style": "",
            "layout": "IPY_MODEL_fe95298bd69a4ce29bb804ace4b47d4b",
            "_model_module": "@jupyter-widgets/controls",
            "children": [
              "IPY_MODEL_f34f372eb70843d68c78bdf3b40e6416",
              "IPY_MODEL_2dfc166a111a42549c846423e96e7e76"
            ]
          }
        },
        "fe95298bd69a4ce29bb804ace4b47d4b": {
          "model_module": "@jupyter-widgets/base",
          "model_name": "LayoutModel",
          "state": {
            "_view_name": "LayoutView",
            "grid_template_rows": null,
            "right": null,
            "justify_content": null,
            "_view_module": "@jupyter-widgets/base",
            "overflow": null,
            "_model_module_version": "1.2.0",
            "_view_count": null,
            "flex_flow": null,
            "width": null,
            "min_width": null,
            "border": null,
            "align_items": null,
            "bottom": null,
            "_model_module": "@jupyter-widgets/base",
            "top": null,
            "grid_column": null,
            "overflow_y": null,
            "overflow_x": null,
            "grid_auto_flow": null,
            "grid_area": null,
            "grid_template_columns": null,
            "flex": null,
            "_model_name": "LayoutModel",
            "justify_items": null,
            "grid_row": null,
            "max_height": null,
            "align_content": null,
            "visibility": null,
            "align_self": null,
            "height": null,
            "min_height": null,
            "padding": null,
            "grid_auto_rows": null,
            "grid_gap": null,
            "max_width": null,
            "order": null,
            "_view_module_version": "1.2.0",
            "grid_template_areas": null,
            "object_position": null,
            "object_fit": null,
            "grid_auto_columns": null,
            "margin": null,
            "display": null,
            "left": null
          }
        },
        "f34f372eb70843d68c78bdf3b40e6416": {
          "model_module": "@jupyter-widgets/controls",
          "model_name": "FloatProgressModel",
          "state": {
            "_view_name": "ProgressView",
            "style": "IPY_MODEL_a7d0dac346f643929e943e457e5b9803",
            "_dom_classes": [],
            "description": "100%",
            "_model_name": "FloatProgressModel",
            "bar_style": "success",
            "max": 20,
            "_view_module": "@jupyter-widgets/controls",
            "_model_module_version": "1.5.0",
            "value": 20,
            "_view_count": null,
            "_view_module_version": "1.5.0",
            "orientation": "horizontal",
            "min": 0,
            "description_tooltip": null,
            "_model_module": "@jupyter-widgets/controls",
            "layout": "IPY_MODEL_687340ddc6a74ca48856ac9ccb91c5e2"
          }
        },
        "2dfc166a111a42549c846423e96e7e76": {
          "model_module": "@jupyter-widgets/controls",
          "model_name": "HTMLModel",
          "state": {
            "_view_name": "HTMLView",
            "style": "IPY_MODEL_7d16ec9a83674590a5f4b506e3679483",
            "_dom_classes": [],
            "description": "",
            "_model_name": "HTMLModel",
            "placeholder": "​",
            "_view_module": "@jupyter-widgets/controls",
            "_model_module_version": "1.5.0",
            "value": " 20/20 [4:22:25&lt;00:00, 787.25s/it]",
            "_view_count": null,
            "_view_module_version": "1.5.0",
            "description_tooltip": null,
            "_model_module": "@jupyter-widgets/controls",
            "layout": "IPY_MODEL_6a9153688d2a4cb798610fbb146f6ab7"
          }
        },
        "a7d0dac346f643929e943e457e5b9803": {
          "model_module": "@jupyter-widgets/controls",
          "model_name": "ProgressStyleModel",
          "state": {
            "_view_name": "StyleView",
            "_model_name": "ProgressStyleModel",
            "description_width": "initial",
            "_view_module": "@jupyter-widgets/base",
            "_model_module_version": "1.5.0",
            "_view_count": null,
            "_view_module_version": "1.2.0",
            "bar_color": null,
            "_model_module": "@jupyter-widgets/controls"
          }
        },
        "687340ddc6a74ca48856ac9ccb91c5e2": {
          "model_module": "@jupyter-widgets/base",
          "model_name": "LayoutModel",
          "state": {
            "_view_name": "LayoutView",
            "grid_template_rows": null,
            "right": null,
            "justify_content": null,
            "_view_module": "@jupyter-widgets/base",
            "overflow": null,
            "_model_module_version": "1.2.0",
            "_view_count": null,
            "flex_flow": null,
            "width": null,
            "min_width": null,
            "border": null,
            "align_items": null,
            "bottom": null,
            "_model_module": "@jupyter-widgets/base",
            "top": null,
            "grid_column": null,
            "overflow_y": null,
            "overflow_x": null,
            "grid_auto_flow": null,
            "grid_area": null,
            "grid_template_columns": null,
            "flex": null,
            "_model_name": "LayoutModel",
            "justify_items": null,
            "grid_row": null,
            "max_height": null,
            "align_content": null,
            "visibility": null,
            "align_self": null,
            "height": null,
            "min_height": null,
            "padding": null,
            "grid_auto_rows": null,
            "grid_gap": null,
            "max_width": null,
            "order": null,
            "_view_module_version": "1.2.0",
            "grid_template_areas": null,
            "object_position": null,
            "object_fit": null,
            "grid_auto_columns": null,
            "margin": null,
            "display": null,
            "left": null
          }
        },
        "7d16ec9a83674590a5f4b506e3679483": {
          "model_module": "@jupyter-widgets/controls",
          "model_name": "DescriptionStyleModel",
          "state": {
            "_view_name": "StyleView",
            "_model_name": "DescriptionStyleModel",
            "description_width": "",
            "_view_module": "@jupyter-widgets/base",
            "_model_module_version": "1.5.0",
            "_view_count": null,
            "_view_module_version": "1.2.0",
            "_model_module": "@jupyter-widgets/controls"
          }
        },
        "6a9153688d2a4cb798610fbb146f6ab7": {
          "model_module": "@jupyter-widgets/base",
          "model_name": "LayoutModel",
          "state": {
            "_view_name": "LayoutView",
            "grid_template_rows": null,
            "right": null,
            "justify_content": null,
            "_view_module": "@jupyter-widgets/base",
            "overflow": null,
            "_model_module_version": "1.2.0",
            "_view_count": null,
            "flex_flow": null,
            "width": null,
            "min_width": null,
            "border": null,
            "align_items": null,
            "bottom": null,
            "_model_module": "@jupyter-widgets/base",
            "top": null,
            "grid_column": null,
            "overflow_y": null,
            "overflow_x": null,
            "grid_auto_flow": null,
            "grid_area": null,
            "grid_template_columns": null,
            "flex": null,
            "_model_name": "LayoutModel",
            "justify_items": null,
            "grid_row": null,
            "max_height": null,
            "align_content": null,
            "visibility": null,
            "align_self": null,
            "height": null,
            "min_height": null,
            "padding": null,
            "grid_auto_rows": null,
            "grid_gap": null,
            "max_width": null,
            "order": null,
            "_view_module_version": "1.2.0",
            "grid_template_areas": null,
            "object_position": null,
            "object_fit": null,
            "grid_auto_columns": null,
            "margin": null,
            "display": null,
            "left": null
          }
        }
      }
    }
  },
  "cells": [
    {
      "cell_type": "markdown",
      "metadata": {
        "id": "view-in-github",
        "colab_type": "text"
      },
      "source": [
        "<a href=\"https://colab.research.google.com/github/stevenlimcorn/covid-detection/blob/main/Covid_detection.ipynb\" target=\"_parent\"><img src=\"https://colab.research.google.com/assets/colab-badge.svg\" alt=\"Open In Colab\"/></a>"
      ]
    },
    {
      "cell_type": "code",
      "metadata": {
        "colab": {
          "base_uri": "https://localhost:8080/"
        },
        "id": "I3HIwNNe8gt1",
        "outputId": "c8c838b7-9bc7-4dc5-ac11-2b7bfdb3ffab"
      },
      "source": [
        "!pip install timm"
      ],
      "execution_count": 2,
      "outputs": [
        {
          "output_type": "stream",
          "text": [
            "Requirement already satisfied: timm in /usr/local/lib/python3.7/dist-packages (0.4.9)\n",
            "Requirement already satisfied: torch>=1.4 in /usr/local/lib/python3.7/dist-packages (from timm) (1.9.0+cu102)\n",
            "Requirement already satisfied: torchvision in /usr/local/lib/python3.7/dist-packages (from timm) (0.10.0+cu102)\n",
            "Requirement already satisfied: typing-extensions in /usr/local/lib/python3.7/dist-packages (from torch>=1.4->timm) (3.7.4.3)\n",
            "Requirement already satisfied: pillow>=5.3.0 in /usr/local/lib/python3.7/dist-packages (from torchvision->timm) (7.1.2)\n",
            "Requirement already satisfied: numpy in /usr/local/lib/python3.7/dist-packages (from torchvision->timm) (1.19.5)\n"
          ],
          "name": "stdout"
        }
      ]
    },
    {
      "cell_type": "code",
      "metadata": {
        "execution": {
          "iopub.status.busy": "2021-06-25T11:07:20.102085Z",
          "iopub.execute_input": "2021-06-25T11:07:20.102410Z",
          "iopub.status.idle": "2021-06-25T11:07:20.108002Z",
          "shell.execute_reply.started": "2021-06-25T11:07:20.102378Z",
          "shell.execute_reply": "2021-06-25T11:07:20.107191Z"
        },
        "trusted": true,
        "id": "NEbh1Jpa4nC5"
      },
      "source": [
        "import torch\n",
        "import random\n",
        "import os\n",
        "import numpy as np\n",
        "import torch.nn as nn\n",
        "import pandas as pd\n",
        "import math\n",
        "from sklearn.metrics import accuracy_score, f1_score, confusion_matrix\n",
        "from tqdm.notebook import tqdm\n",
        "from sklearn.model_selection import train_test_split\n",
        "import torch.nn.functional as F\n",
        "import matplotlib.pyplot as plt\n",
        "import seaborn as sn\n",
        "from torch.utils.data import DataLoader\n",
        "from PIL import Image\n",
        "import timm\n",
        "import torchvision.transforms as transforms\n",
        "import glob"
      ],
      "execution_count": 3,
      "outputs": []
    },
    {
      "cell_type": "code",
      "metadata": {
        "execution": {
          "iopub.status.busy": "2021-06-25T10:56:39.934835Z",
          "iopub.execute_input": "2021-06-25T10:56:39.935191Z",
          "iopub.status.idle": "2021-06-25T10:56:39.945214Z",
          "shell.execute_reply.started": "2021-06-25T10:56:39.935159Z",
          "shell.execute_reply": "2021-06-25T10:56:39.944304Z"
        },
        "trusted": true,
        "id": "ZD3Mm2xd4nDA"
      },
      "source": [
        "def seed_everything(seed):\n",
        "    random.seed(seed)\n",
        "    os.environ[\"PYTHONHASHSEED\"] = str(seed)\n",
        "    np.random.seed(seed)\n",
        "    torch.manual_seed(seed)\n",
        "    torch.cuda.manual_seed(seed)\n",
        "    torch.backends.cudnn.deterministic = True\n",
        "    torch.backends.cudnn.benchmark = False\n",
        "\n",
        "seed_everything(42)"
      ],
      "execution_count": 4,
      "outputs": []
    },
    {
      "cell_type": "markdown",
      "metadata": {
        "id": "u6N5cy_44nDB"
      },
      "source": [
        "### Data Preprocessing"
      ]
    },
    {
      "cell_type": "code",
      "metadata": {
        "execution": {
          "iopub.status.busy": "2021-06-25T10:56:40.284851Z",
          "iopub.execute_input": "2021-06-25T10:56:40.285227Z",
          "iopub.status.idle": "2021-06-25T10:56:40.289442Z",
          "shell.execute_reply.started": "2021-06-25T10:56:40.285197Z",
          "shell.execute_reply": "2021-06-25T10:56:40.288521Z"
        },
        "trusted": true,
        "id": "OOK5zI5G4nDB"
      },
      "source": [
        "IMG_SIZE = 224\n",
        "BATCH_SIZE = 32"
      ],
      "execution_count": 5,
      "outputs": []
    },
    {
      "cell_type": "markdown",
      "metadata": {
        "id": "TLb-ozjw8qBz"
      },
      "source": [
        "### Load Data"
      ]
    },
    {
      "cell_type": "code",
      "metadata": {
        "execution": {
          "iopub.status.busy": "2021-06-25T10:56:40.600391Z",
          "iopub.execute_input": "2021-06-25T10:56:40.600692Z",
          "iopub.status.idle": "2021-06-25T10:56:40.716397Z",
          "shell.execute_reply.started": "2021-06-25T10:56:40.600664Z",
          "shell.execute_reply": "2021-06-25T10:56:40.715586Z"
        },
        "trusted": true,
        "id": "HlsilGmZ4nDC",
        "colab": {
          "base_uri": "https://localhost:8080/"
        },
        "outputId": "a1406b6b-aaa1-4f3c-a263-c2e655f32a61"
      },
      "source": [
        "!rm -rf /root/.kaggle.\n",
        "!mkdir /root/.kaggle \n",
        "!mv kaggle.json /root/.kaggle/kaggle.json"
      ],
      "execution_count": 6,
      "outputs": [
        {
          "output_type": "stream",
          "text": [
            "mkdir: cannot create directory ‘/root/.kaggle’: File exists\n",
            "mv: cannot stat 'kaggle.json': No such file or directory\n"
          ],
          "name": "stdout"
        }
      ]
    },
    {
      "cell_type": "code",
      "metadata": {
        "colab": {
          "base_uri": "https://localhost:8080/"
        },
        "id": "mgabHawrAZ1U",
        "outputId": "0e3a153d-8429-4e96-8c7b-45a974f57591"
      },
      "source": [
        "!kaggle datasets download -d tawsifurrahman/covid19-radiography-database"
      ],
      "execution_count": 7,
      "outputs": [
        {
          "output_type": "stream",
          "text": [
            "Warning: Your Kaggle API key is readable by other users on this system! To fix this, you can run 'chmod 600 /root/.kaggle/kaggle.json'\n",
            "covid19-radiography-database.zip: Skipping, found more recently modified local copy (use --force to force download)\n"
          ],
          "name": "stdout"
        }
      ]
    },
    {
      "cell_type": "code",
      "metadata": {
        "id": "s_UitlAEBW9U",
        "colab": {
          "base_uri": "https://localhost:8080/"
        },
        "outputId": "b3ca633e-1211-4833-f637-584cb4052997"
      },
      "source": [
        "!unzip -q covid19-radiography-database.zip"
      ],
      "execution_count": 8,
      "outputs": [
        {
          "output_type": "stream",
          "text": [
            "replace COVID-19_Radiography_Dataset/COVID.metadata.xlsx? [y]es, [n]o, [A]ll, [N]one, [r]ename: A\n",
            "A\n",
            "A\n",
            "A\n"
          ],
          "name": "stdout"
        }
      ]
    },
    {
      "cell_type": "code",
      "metadata": {
        "execution": {
          "iopub.status.busy": "2021-06-25T11:06:28.000930Z",
          "iopub.execute_input": "2021-06-25T11:06:28.001314Z",
          "iopub.status.idle": "2021-06-25T11:06:28.009308Z",
          "shell.execute_reply.started": "2021-06-25T11:06:28.001280Z",
          "shell.execute_reply": "2021-06-25T11:06:28.008189Z"
        },
        "trusted": true,
        "id": "8sGjmGf-4nDF"
      },
      "source": [
        "class CovidDataset():\n",
        "    \n",
        "    def __init__(self, image_paths, labels, transforms=None):\n",
        "        self.image_paths = image_paths\n",
        "        self.labels = labels\n",
        "        self.transforms = transforms\n",
        "        \n",
        "    def __len__(self):\n",
        "        return len(self.image_paths)\n",
        "    \n",
        "    def __getitem__(self, idx):\n",
        "        file_name = self.image_paths[idx]\n",
        "        image = Image.open(file_name).convert(\"RGB\")\n",
        "        \n",
        "        if self.transforms is not None:\n",
        "            image = self.transforms(image)\n",
        "        \n",
        "\n",
        "        return image, self.labels[idx]"
      ],
      "execution_count": 9,
      "outputs": []
    },
    {
      "cell_type": "code",
      "metadata": {
        "id": "KSrqb-faYfV3"
      },
      "source": [
        "lung_opacity = sorted(glob.glob(\"/content/COVID-19_Radiography_Dataset/Lung_Opacity/*.png\"))\n",
        "normal = sorted(glob.glob(\"/content/COVID-19_Radiography_Dataset/Normal/*.png\"))\n",
        "viral_pneumonia = sorted(glob.glob(\"/content/COVID-19_Radiography_Dataset/Viral Pneumonia/*.png\"))\n",
        "covid = sorted(glob.glob(\"/content/COVID-19_Radiography_Dataset/COVID/*.png\"))"
      ],
      "execution_count": 10,
      "outputs": []
    },
    {
      "cell_type": "code",
      "metadata": {
        "colab": {
          "base_uri": "https://localhost:8080/"
        },
        "id": "Btwjoa13ZUgx",
        "outputId": "aeb04d52-1f4c-4fc6-c150-dcb11b54e88f"
      },
      "source": [
        "len(lung_opacity), len(normal), len(viral_pneumonia), len(covid)"
      ],
      "execution_count": 11,
      "outputs": [
        {
          "output_type": "execute_result",
          "data": {
            "text/plain": [
              "(6012, 10192, 1345, 3616)"
            ]
          },
          "metadata": {
            "tags": []
          },
          "execution_count": 11
        }
      ]
    },
    {
      "cell_type": "code",
      "metadata": {
        "colab": {
          "base_uri": "https://localhost:8080/"
        },
        "id": "x8Q3xBib6pTI",
        "outputId": "ef07fed0-8c14-4711-f9dd-9cdb5b61a385"
      },
      "source": [
        "np.array(Image.open(lung_opacity[0]).convert(\"RGB\")).shape"
      ],
      "execution_count": 12,
      "outputs": [
        {
          "output_type": "execute_result",
          "data": {
            "text/plain": [
              "(299, 299, 3)"
            ]
          },
          "metadata": {
            "tags": []
          },
          "execution_count": 12
        }
      ]
    },
    {
      "cell_type": "code",
      "metadata": {
        "id": "Jbjz60HPegkO"
      },
      "source": [
        "classes = [lung_opacity, normal, viral_pneumonia, covid]"
      ],
      "execution_count": 13,
      "outputs": []
    },
    {
      "cell_type": "code",
      "metadata": {
        "id": "p3OqKWl0fFrR"
      },
      "source": [
        "data_df = pd.DataFrame(columns=[\"images\", \"labels\"])"
      ],
      "execution_count": 14,
      "outputs": []
    },
    {
      "cell_type": "code",
      "metadata": {
        "id": "OHBJq9hSdhpf"
      },
      "source": [
        "for i, data in enumerate(classes):\n",
        "    data_df = data_df.append(pd.DataFrame({\"images\": data, \"labels\": [i for j in range(len(data))]}))"
      ],
      "execution_count": 15,
      "outputs": []
    },
    {
      "cell_type": "code",
      "metadata": {
        "colab": {
          "base_uri": "https://localhost:8080/",
          "height": 417
        },
        "id": "afQ5JhI4d53L",
        "outputId": "4a59cfc8-8101-4e3e-bb99-be3f2085adc1"
      },
      "source": [
        "data_df"
      ],
      "execution_count": 16,
      "outputs": [
        {
          "output_type": "execute_result",
          "data": {
            "text/html": [
              "<div>\n",
              "<style scoped>\n",
              "    .dataframe tbody tr th:only-of-type {\n",
              "        vertical-align: middle;\n",
              "    }\n",
              "\n",
              "    .dataframe tbody tr th {\n",
              "        vertical-align: top;\n",
              "    }\n",
              "\n",
              "    .dataframe thead th {\n",
              "        text-align: right;\n",
              "    }\n",
              "</style>\n",
              "<table border=\"1\" class=\"dataframe\">\n",
              "  <thead>\n",
              "    <tr style=\"text-align: right;\">\n",
              "      <th></th>\n",
              "      <th>images</th>\n",
              "      <th>labels</th>\n",
              "    </tr>\n",
              "  </thead>\n",
              "  <tbody>\n",
              "    <tr>\n",
              "      <th>0</th>\n",
              "      <td>/content/COVID-19_Radiography_Dataset/Lung_Opa...</td>\n",
              "      <td>0</td>\n",
              "    </tr>\n",
              "    <tr>\n",
              "      <th>1</th>\n",
              "      <td>/content/COVID-19_Radiography_Dataset/Lung_Opa...</td>\n",
              "      <td>0</td>\n",
              "    </tr>\n",
              "    <tr>\n",
              "      <th>2</th>\n",
              "      <td>/content/COVID-19_Radiography_Dataset/Lung_Opa...</td>\n",
              "      <td>0</td>\n",
              "    </tr>\n",
              "    <tr>\n",
              "      <th>3</th>\n",
              "      <td>/content/COVID-19_Radiography_Dataset/Lung_Opa...</td>\n",
              "      <td>0</td>\n",
              "    </tr>\n",
              "    <tr>\n",
              "      <th>4</th>\n",
              "      <td>/content/COVID-19_Radiography_Dataset/Lung_Opa...</td>\n",
              "      <td>0</td>\n",
              "    </tr>\n",
              "    <tr>\n",
              "      <th>...</th>\n",
              "      <td>...</td>\n",
              "      <td>...</td>\n",
              "    </tr>\n",
              "    <tr>\n",
              "      <th>3611</th>\n",
              "      <td>/content/COVID-19_Radiography_Dataset/COVID/CO...</td>\n",
              "      <td>3</td>\n",
              "    </tr>\n",
              "    <tr>\n",
              "      <th>3612</th>\n",
              "      <td>/content/COVID-19_Radiography_Dataset/COVID/CO...</td>\n",
              "      <td>3</td>\n",
              "    </tr>\n",
              "    <tr>\n",
              "      <th>3613</th>\n",
              "      <td>/content/COVID-19_Radiography_Dataset/COVID/CO...</td>\n",
              "      <td>3</td>\n",
              "    </tr>\n",
              "    <tr>\n",
              "      <th>3614</th>\n",
              "      <td>/content/COVID-19_Radiography_Dataset/COVID/CO...</td>\n",
              "      <td>3</td>\n",
              "    </tr>\n",
              "    <tr>\n",
              "      <th>3615</th>\n",
              "      <td>/content/COVID-19_Radiography_Dataset/COVID/CO...</td>\n",
              "      <td>3</td>\n",
              "    </tr>\n",
              "  </tbody>\n",
              "</table>\n",
              "<p>21165 rows × 2 columns</p>\n",
              "</div>"
            ],
            "text/plain": [
              "                                                 images labels\n",
              "0     /content/COVID-19_Radiography_Dataset/Lung_Opa...      0\n",
              "1     /content/COVID-19_Radiography_Dataset/Lung_Opa...      0\n",
              "2     /content/COVID-19_Radiography_Dataset/Lung_Opa...      0\n",
              "3     /content/COVID-19_Radiography_Dataset/Lung_Opa...      0\n",
              "4     /content/COVID-19_Radiography_Dataset/Lung_Opa...      0\n",
              "...                                                 ...    ...\n",
              "3611  /content/COVID-19_Radiography_Dataset/COVID/CO...      3\n",
              "3612  /content/COVID-19_Radiography_Dataset/COVID/CO...      3\n",
              "3613  /content/COVID-19_Radiography_Dataset/COVID/CO...      3\n",
              "3614  /content/COVID-19_Radiography_Dataset/COVID/CO...      3\n",
              "3615  /content/COVID-19_Radiography_Dataset/COVID/CO...      3\n",
              "\n",
              "[21165 rows x 2 columns]"
            ]
          },
          "metadata": {
            "tags": []
          },
          "execution_count": 16
        }
      ]
    },
    {
      "cell_type": "markdown",
      "metadata": {
        "id": "LL_bkZQf4nDG"
      },
      "source": [
        "### Transforms"
      ]
    },
    {
      "cell_type": "code",
      "metadata": {
        "execution": {
          "iopub.status.busy": "2021-06-25T11:06:28.010853Z",
          "iopub.execute_input": "2021-06-25T11:06:28.011201Z",
          "iopub.status.idle": "2021-06-25T11:06:28.021135Z",
          "shell.execute_reply.started": "2021-06-25T11:06:28.011169Z",
          "shell.execute_reply": "2021-06-25T11:06:28.020271Z"
        },
        "trusted": true,
        "id": "Xcx79Hw_4nDG"
      },
      "source": [
        "transforms_train = transforms.Compose(\n",
        "    [\n",
        "        transforms.Resize((IMG_SIZE, IMG_SIZE)),\n",
        "        transforms.RandomHorizontalFlip(p=0.3),\n",
        "        transforms.RandomResizedCrop(IMG_SIZE),\n",
        "        transforms.ToTensor(),\n",
        "        transforms.Normalize((0.485, 0.456, 0.406), (0.229, 0.224, 0.225)),\n",
        "    ]\n",
        ")\n",
        "\n",
        "transforms_test = transforms.Compose(\n",
        "    [\n",
        "        transforms.Resize((IMG_SIZE, IMG_SIZE)),\n",
        "        transforms.ToTensor(),\n",
        "        transforms.Normalize((0.485, 0.456, 0.406), (0.229, 0.224, 0.225)),\n",
        "    ]\n",
        ")"
      ],
      "execution_count": 17,
      "outputs": []
    },
    {
      "cell_type": "markdown",
      "metadata": {
        "id": "t4dcPwcx4nDG"
      },
      "source": [
        "#### Train Validation Test"
      ]
    },
    {
      "cell_type": "code",
      "metadata": {
        "id": "ABDIsE7qhcGV"
      },
      "source": [
        "train_val_image, test_image, train_val_label, test_label = train_test_split(data_df.images.values, data_df.labels.values, test_size=0.1, stratify=data_df.labels.values)"
      ],
      "execution_count": 18,
      "outputs": []
    },
    {
      "cell_type": "code",
      "metadata": {
        "id": "K-FKAYg9hdp-"
      },
      "source": [
        "train_image, validation_image, train_label, validation_label = train_test_split(train_val_image, train_val_label, test_size=(1/9), stratify=train_val_label)"
      ],
      "execution_count": 19,
      "outputs": []
    },
    {
      "cell_type": "code",
      "metadata": {
        "execution": {
          "iopub.status.busy": "2021-06-25T11:06:28.096788Z",
          "iopub.execute_input": "2021-06-25T11:06:28.097122Z",
          "iopub.status.idle": "2021-06-25T11:06:28.102240Z",
          "shell.execute_reply.started": "2021-06-25T11:06:28.097095Z",
          "shell.execute_reply": "2021-06-25T11:06:28.101300Z"
        },
        "trusted": true,
        "colab": {
          "base_uri": "https://localhost:8080/"
        },
        "id": "JfrKy6wC4nDH",
        "outputId": "45277ee1-f771-4b44-ba0d-cc38cd56b882"
      },
      "source": [
        "len(train_image), len(validation_image), len(test_image)"
      ],
      "execution_count": 20,
      "outputs": [
        {
          "output_type": "execute_result",
          "data": {
            "text/plain": [
              "(16931, 2117, 2117)"
            ]
          },
          "metadata": {
            "tags": []
          },
          "execution_count": 20
        }
      ]
    },
    {
      "cell_type": "code",
      "metadata": {
        "execution": {
          "iopub.status.busy": "2021-06-25T11:06:28.104189Z",
          "iopub.execute_input": "2021-06-25T11:06:28.104571Z",
          "iopub.status.idle": "2021-06-25T11:06:28.110239Z",
          "shell.execute_reply.started": "2021-06-25T11:06:28.104536Z",
          "shell.execute_reply": "2021-06-25T11:06:28.109164Z"
        },
        "trusted": true,
        "id": "flt0535u4nDH"
      },
      "source": [
        "train_dataset = CovidDataset(train_image, train_label, transforms_train)"
      ],
      "execution_count": 21,
      "outputs": []
    },
    {
      "cell_type": "code",
      "metadata": {
        "execution": {
          "iopub.status.busy": "2021-06-25T11:06:28.111732Z",
          "iopub.execute_input": "2021-06-25T11:06:28.112164Z",
          "iopub.status.idle": "2021-06-25T11:06:28.118674Z",
          "shell.execute_reply.started": "2021-06-25T11:06:28.112129Z",
          "shell.execute_reply": "2021-06-25T11:06:28.117850Z"
        },
        "trusted": true,
        "id": "7X_xPfYj4nDH"
      },
      "source": [
        "validation_dataset = CovidDataset(validation_image, validation_label, transforms_test)"
      ],
      "execution_count": 22,
      "outputs": []
    },
    {
      "cell_type": "code",
      "metadata": {
        "execution": {
          "iopub.status.busy": "2021-06-25T11:06:28.119820Z",
          "iopub.execute_input": "2021-06-25T11:06:28.120287Z",
          "iopub.status.idle": "2021-06-25T11:06:28.126818Z",
          "shell.execute_reply.started": "2021-06-25T11:06:28.120253Z",
          "shell.execute_reply": "2021-06-25T11:06:28.126077Z"
        },
        "trusted": true,
        "id": "AQ2DSrxl4nDH"
      },
      "source": [
        "test_dataset = CovidDataset(test_image, test_label, transforms_test)"
      ],
      "execution_count": 23,
      "outputs": []
    },
    {
      "cell_type": "code",
      "metadata": {
        "execution": {
          "iopub.status.busy": "2021-06-25T11:06:28.129467Z",
          "iopub.execute_input": "2021-06-25T11:06:28.129711Z",
          "iopub.status.idle": "2021-06-25T11:06:28.136239Z",
          "shell.execute_reply.started": "2021-06-25T11:06:28.129689Z",
          "shell.execute_reply": "2021-06-25T11:06:28.135401Z"
        },
        "trusted": true,
        "id": "9kaQd5qt4nDI"
      },
      "source": [
        "train_loader = DataLoader(train_dataset, batch_size=BATCH_SIZE, shuffle=True)\n",
        "validation_loader = DataLoader(validation_dataset, batch_size=BATCH_SIZE, shuffle=False)\n",
        "test_loader = DataLoader(test_dataset, batch_size=BATCH_SIZE, shuffle=False)"
      ],
      "execution_count": 24,
      "outputs": []
    },
    {
      "cell_type": "markdown",
      "metadata": {
        "id": "3EbqcNXT4nDI"
      },
      "source": [
        "### Training Loop"
      ]
    },
    {
      "cell_type": "code",
      "metadata": {
        "execution": {
          "iopub.status.busy": "2021-06-25T11:06:28.137382Z",
          "iopub.execute_input": "2021-06-25T11:06:28.137738Z",
          "iopub.status.idle": "2021-06-25T11:06:28.146105Z",
          "shell.execute_reply.started": "2021-06-25T11:06:28.137703Z",
          "shell.execute_reply": "2021-06-25T11:06:28.145139Z"
        },
        "trusted": true,
        "id": "He3BqVkj4nDI"
      },
      "source": [
        "def train(model, train_loader, optimizer, criterion, device, scheduler=None):\n",
        "    total_correct = 0.0\n",
        "    total_loss = 0.0\n",
        "    batch_loss = 0.0\n",
        "    batch_correct = 0.0\n",
        "\n",
        "    model.train()\n",
        "    for idx, (inputs, labels) in enumerate(train_loader):\n",
        "        optimizer.zero_grad()\n",
        "        inputs, labels = inputs.to(device), labels.to(device)\n",
        "        # forward\n",
        "        output = model(inputs)\n",
        "        # calculate loss\n",
        "        loss = criterion(output, labels)\n",
        "        loss.backward()\n",
        "        \n",
        "        correct = (output.argmax(dim=1) == labels).sum().item()\n",
        "        \n",
        "        total_correct += correct\n",
        "        batch_correct += correct/len(labels)\n",
        "        total_loss += loss.item()\n",
        "        batch_loss += loss.item()\n",
        "        \n",
        "        optimizer.step()\n",
        "\n",
        "        if (idx + 1) % 100 == 0:\n",
        "            print(f\"Batch Number {idx + 1}: Average Loss {batch_loss/100} Average Accuracy {batch_correct/100}\")\n",
        "            batch_correct = 0.0\n",
        "            batch_loss = 0.0\n",
        "\n",
        "        if scheduler is not None:\n",
        "            scheduler.step()\n",
        "    return total_correct/len(train_loader.dataset), total_loss/len(train_loader)"
      ],
      "execution_count": 25,
      "outputs": []
    },
    {
      "cell_type": "markdown",
      "metadata": {
        "id": "ZNoc1vbV4nDI"
      },
      "source": [
        "### Evaluation Loop"
      ]
    },
    {
      "cell_type": "code",
      "metadata": {
        "execution": {
          "iopub.status.busy": "2021-06-25T11:06:28.147567Z",
          "iopub.execute_input": "2021-06-25T11:06:28.147956Z",
          "iopub.status.idle": "2021-06-25T11:06:28.157159Z",
          "shell.execute_reply.started": "2021-06-25T11:06:28.147921Z",
          "shell.execute_reply": "2021-06-25T11:06:28.156461Z"
        },
        "trusted": true,
        "id": "uQDE50Sz4nDJ"
      },
      "source": [
        "def evaluate(model, test_loader, criterion, device):\n",
        "    total_correct = 0.0\n",
        "    total_loss = 0.0\n",
        "    \n",
        "    model.eval()\n",
        "    for inputs, labels in test_loader:\n",
        "        inputs, labels = inputs.to(device), labels.to(device)\n",
        "        # forward\n",
        "        output = model(inputs)\n",
        "        # calculate loss\n",
        "        loss = criterion(output, labels)\n",
        "        total_correct += (output.argmax(dim=1) == labels).sum().item()\n",
        "        total_loss += loss.item()\n",
        "        \n",
        "    return total_correct/len(test_loader.dataset), total_loss/len(test_loader)"
      ],
      "execution_count": 26,
      "outputs": []
    },
    {
      "cell_type": "markdown",
      "metadata": {
        "id": "gADEXUmm4nDJ"
      },
      "source": [
        "### Training Preparation"
      ]
    },
    {
      "cell_type": "code",
      "metadata": {
        "id": "qEZTHdc4kgjz"
      },
      "source": [
        "LR = 2e-05\n",
        "EPOCHS = 20"
      ],
      "execution_count": 27,
      "outputs": []
    },
    {
      "cell_type": "code",
      "metadata": {
        "execution": {
          "iopub.status.busy": "2021-06-25T11:07:24.694442Z",
          "iopub.execute_input": "2021-06-25T11:07:24.694774Z",
          "iopub.status.idle": "2021-06-25T11:07:39.419259Z",
          "shell.execute_reply.started": "2021-06-25T11:07:24.694745Z",
          "shell.execute_reply": "2021-06-25T11:07:39.418399Z"
        },
        "trusted": true,
        "colab": {
          "base_uri": "https://localhost:8080/"
        },
        "id": "FQjI0DDl4nDK",
        "outputId": "e9a3c077-7ac8-47b5-a695-b26a4e275710"
      },
      "source": [
        "model = torch.hub.load('facebookresearch/deit:main', 'deit_base_patch16_224', pretrained=True)\n",
        "### number of unique classes == 4\n",
        "model.head = nn.Linear(768, 4)"
      ],
      "execution_count": 28,
      "outputs": [
        {
          "output_type": "stream",
          "text": [
            "Using cache found in /root/.cache/torch/hub/facebookresearch_deit_main\n"
          ],
          "name": "stderr"
        }
      ]
    },
    {
      "cell_type": "code",
      "metadata": {
        "execution": {
          "iopub.status.busy": "2021-06-25T11:07:53.724822Z",
          "iopub.execute_input": "2021-06-25T11:07:53.725188Z",
          "iopub.status.idle": "2021-06-25T11:07:53.735519Z",
          "shell.execute_reply.started": "2021-06-25T11:07:53.725156Z",
          "shell.execute_reply": "2021-06-25T11:07:53.734708Z"
        },
        "trusted": true,
        "id": "4Ojcusal4nDL"
      },
      "source": [
        "optimizer = torch.optim.AdamW(model.parameters(), lr=LR)\n",
        "criterion = nn.CrossEntropyLoss()\n",
        "scheduler = torch.optim.lr_scheduler.ExponentialLR(optimizer, 0.995)\n",
        "device = \"cuda\""
      ],
      "execution_count": 29,
      "outputs": []
    },
    {
      "cell_type": "code",
      "metadata": {
        "execution": {
          "iopub.status.busy": "2021-06-25T11:07:54.599606Z",
          "iopub.execute_input": "2021-06-25T11:07:54.599945Z",
          "iopub.status.idle": "2021-06-25T11:07:58.929118Z",
          "shell.execute_reply.started": "2021-06-25T11:07:54.599912Z",
          "shell.execute_reply": "2021-06-25T11:07:58.928299Z"
        },
        "trusted": true,
        "colab": {
          "base_uri": "https://localhost:8080/"
        },
        "id": "pCMLwgp74nDL",
        "outputId": "09e0ac63-f7dd-4b93-d82b-234ffe261cf6"
      },
      "source": [
        "model.to(device)"
      ],
      "execution_count": 30,
      "outputs": [
        {
          "output_type": "execute_result",
          "data": {
            "text/plain": [
              "VisionTransformer(\n",
              "  (patch_embed): PatchEmbed(\n",
              "    (proj): Conv2d(3, 768, kernel_size=(16, 16), stride=(16, 16))\n",
              "    (norm): Identity()\n",
              "  )\n",
              "  (pos_drop): Dropout(p=0.0, inplace=False)\n",
              "  (blocks): Sequential(\n",
              "    (0): Block(\n",
              "      (norm1): LayerNorm((768,), eps=1e-06, elementwise_affine=True)\n",
              "      (attn): Attention(\n",
              "        (qkv): Linear(in_features=768, out_features=2304, bias=True)\n",
              "        (attn_drop): Dropout(p=0.0, inplace=False)\n",
              "        (proj): Linear(in_features=768, out_features=768, bias=True)\n",
              "        (proj_drop): Dropout(p=0.0, inplace=False)\n",
              "      )\n",
              "      (drop_path): Identity()\n",
              "      (norm2): LayerNorm((768,), eps=1e-06, elementwise_affine=True)\n",
              "      (mlp): Mlp(\n",
              "        (fc1): Linear(in_features=768, out_features=3072, bias=True)\n",
              "        (act): GELU()\n",
              "        (fc2): Linear(in_features=3072, out_features=768, bias=True)\n",
              "        (drop): Dropout(p=0.0, inplace=False)\n",
              "      )\n",
              "    )\n",
              "    (1): Block(\n",
              "      (norm1): LayerNorm((768,), eps=1e-06, elementwise_affine=True)\n",
              "      (attn): Attention(\n",
              "        (qkv): Linear(in_features=768, out_features=2304, bias=True)\n",
              "        (attn_drop): Dropout(p=0.0, inplace=False)\n",
              "        (proj): Linear(in_features=768, out_features=768, bias=True)\n",
              "        (proj_drop): Dropout(p=0.0, inplace=False)\n",
              "      )\n",
              "      (drop_path): Identity()\n",
              "      (norm2): LayerNorm((768,), eps=1e-06, elementwise_affine=True)\n",
              "      (mlp): Mlp(\n",
              "        (fc1): Linear(in_features=768, out_features=3072, bias=True)\n",
              "        (act): GELU()\n",
              "        (fc2): Linear(in_features=3072, out_features=768, bias=True)\n",
              "        (drop): Dropout(p=0.0, inplace=False)\n",
              "      )\n",
              "    )\n",
              "    (2): Block(\n",
              "      (norm1): LayerNorm((768,), eps=1e-06, elementwise_affine=True)\n",
              "      (attn): Attention(\n",
              "        (qkv): Linear(in_features=768, out_features=2304, bias=True)\n",
              "        (attn_drop): Dropout(p=0.0, inplace=False)\n",
              "        (proj): Linear(in_features=768, out_features=768, bias=True)\n",
              "        (proj_drop): Dropout(p=0.0, inplace=False)\n",
              "      )\n",
              "      (drop_path): Identity()\n",
              "      (norm2): LayerNorm((768,), eps=1e-06, elementwise_affine=True)\n",
              "      (mlp): Mlp(\n",
              "        (fc1): Linear(in_features=768, out_features=3072, bias=True)\n",
              "        (act): GELU()\n",
              "        (fc2): Linear(in_features=3072, out_features=768, bias=True)\n",
              "        (drop): Dropout(p=0.0, inplace=False)\n",
              "      )\n",
              "    )\n",
              "    (3): Block(\n",
              "      (norm1): LayerNorm((768,), eps=1e-06, elementwise_affine=True)\n",
              "      (attn): Attention(\n",
              "        (qkv): Linear(in_features=768, out_features=2304, bias=True)\n",
              "        (attn_drop): Dropout(p=0.0, inplace=False)\n",
              "        (proj): Linear(in_features=768, out_features=768, bias=True)\n",
              "        (proj_drop): Dropout(p=0.0, inplace=False)\n",
              "      )\n",
              "      (drop_path): Identity()\n",
              "      (norm2): LayerNorm((768,), eps=1e-06, elementwise_affine=True)\n",
              "      (mlp): Mlp(\n",
              "        (fc1): Linear(in_features=768, out_features=3072, bias=True)\n",
              "        (act): GELU()\n",
              "        (fc2): Linear(in_features=3072, out_features=768, bias=True)\n",
              "        (drop): Dropout(p=0.0, inplace=False)\n",
              "      )\n",
              "    )\n",
              "    (4): Block(\n",
              "      (norm1): LayerNorm((768,), eps=1e-06, elementwise_affine=True)\n",
              "      (attn): Attention(\n",
              "        (qkv): Linear(in_features=768, out_features=2304, bias=True)\n",
              "        (attn_drop): Dropout(p=0.0, inplace=False)\n",
              "        (proj): Linear(in_features=768, out_features=768, bias=True)\n",
              "        (proj_drop): Dropout(p=0.0, inplace=False)\n",
              "      )\n",
              "      (drop_path): Identity()\n",
              "      (norm2): LayerNorm((768,), eps=1e-06, elementwise_affine=True)\n",
              "      (mlp): Mlp(\n",
              "        (fc1): Linear(in_features=768, out_features=3072, bias=True)\n",
              "        (act): GELU()\n",
              "        (fc2): Linear(in_features=3072, out_features=768, bias=True)\n",
              "        (drop): Dropout(p=0.0, inplace=False)\n",
              "      )\n",
              "    )\n",
              "    (5): Block(\n",
              "      (norm1): LayerNorm((768,), eps=1e-06, elementwise_affine=True)\n",
              "      (attn): Attention(\n",
              "        (qkv): Linear(in_features=768, out_features=2304, bias=True)\n",
              "        (attn_drop): Dropout(p=0.0, inplace=False)\n",
              "        (proj): Linear(in_features=768, out_features=768, bias=True)\n",
              "        (proj_drop): Dropout(p=0.0, inplace=False)\n",
              "      )\n",
              "      (drop_path): Identity()\n",
              "      (norm2): LayerNorm((768,), eps=1e-06, elementwise_affine=True)\n",
              "      (mlp): Mlp(\n",
              "        (fc1): Linear(in_features=768, out_features=3072, bias=True)\n",
              "        (act): GELU()\n",
              "        (fc2): Linear(in_features=3072, out_features=768, bias=True)\n",
              "        (drop): Dropout(p=0.0, inplace=False)\n",
              "      )\n",
              "    )\n",
              "    (6): Block(\n",
              "      (norm1): LayerNorm((768,), eps=1e-06, elementwise_affine=True)\n",
              "      (attn): Attention(\n",
              "        (qkv): Linear(in_features=768, out_features=2304, bias=True)\n",
              "        (attn_drop): Dropout(p=0.0, inplace=False)\n",
              "        (proj): Linear(in_features=768, out_features=768, bias=True)\n",
              "        (proj_drop): Dropout(p=0.0, inplace=False)\n",
              "      )\n",
              "      (drop_path): Identity()\n",
              "      (norm2): LayerNorm((768,), eps=1e-06, elementwise_affine=True)\n",
              "      (mlp): Mlp(\n",
              "        (fc1): Linear(in_features=768, out_features=3072, bias=True)\n",
              "        (act): GELU()\n",
              "        (fc2): Linear(in_features=3072, out_features=768, bias=True)\n",
              "        (drop): Dropout(p=0.0, inplace=False)\n",
              "      )\n",
              "    )\n",
              "    (7): Block(\n",
              "      (norm1): LayerNorm((768,), eps=1e-06, elementwise_affine=True)\n",
              "      (attn): Attention(\n",
              "        (qkv): Linear(in_features=768, out_features=2304, bias=True)\n",
              "        (attn_drop): Dropout(p=0.0, inplace=False)\n",
              "        (proj): Linear(in_features=768, out_features=768, bias=True)\n",
              "        (proj_drop): Dropout(p=0.0, inplace=False)\n",
              "      )\n",
              "      (drop_path): Identity()\n",
              "      (norm2): LayerNorm((768,), eps=1e-06, elementwise_affine=True)\n",
              "      (mlp): Mlp(\n",
              "        (fc1): Linear(in_features=768, out_features=3072, bias=True)\n",
              "        (act): GELU()\n",
              "        (fc2): Linear(in_features=3072, out_features=768, bias=True)\n",
              "        (drop): Dropout(p=0.0, inplace=False)\n",
              "      )\n",
              "    )\n",
              "    (8): Block(\n",
              "      (norm1): LayerNorm((768,), eps=1e-06, elementwise_affine=True)\n",
              "      (attn): Attention(\n",
              "        (qkv): Linear(in_features=768, out_features=2304, bias=True)\n",
              "        (attn_drop): Dropout(p=0.0, inplace=False)\n",
              "        (proj): Linear(in_features=768, out_features=768, bias=True)\n",
              "        (proj_drop): Dropout(p=0.0, inplace=False)\n",
              "      )\n",
              "      (drop_path): Identity()\n",
              "      (norm2): LayerNorm((768,), eps=1e-06, elementwise_affine=True)\n",
              "      (mlp): Mlp(\n",
              "        (fc1): Linear(in_features=768, out_features=3072, bias=True)\n",
              "        (act): GELU()\n",
              "        (fc2): Linear(in_features=3072, out_features=768, bias=True)\n",
              "        (drop): Dropout(p=0.0, inplace=False)\n",
              "      )\n",
              "    )\n",
              "    (9): Block(\n",
              "      (norm1): LayerNorm((768,), eps=1e-06, elementwise_affine=True)\n",
              "      (attn): Attention(\n",
              "        (qkv): Linear(in_features=768, out_features=2304, bias=True)\n",
              "        (attn_drop): Dropout(p=0.0, inplace=False)\n",
              "        (proj): Linear(in_features=768, out_features=768, bias=True)\n",
              "        (proj_drop): Dropout(p=0.0, inplace=False)\n",
              "      )\n",
              "      (drop_path): Identity()\n",
              "      (norm2): LayerNorm((768,), eps=1e-06, elementwise_affine=True)\n",
              "      (mlp): Mlp(\n",
              "        (fc1): Linear(in_features=768, out_features=3072, bias=True)\n",
              "        (act): GELU()\n",
              "        (fc2): Linear(in_features=3072, out_features=768, bias=True)\n",
              "        (drop): Dropout(p=0.0, inplace=False)\n",
              "      )\n",
              "    )\n",
              "    (10): Block(\n",
              "      (norm1): LayerNorm((768,), eps=1e-06, elementwise_affine=True)\n",
              "      (attn): Attention(\n",
              "        (qkv): Linear(in_features=768, out_features=2304, bias=True)\n",
              "        (attn_drop): Dropout(p=0.0, inplace=False)\n",
              "        (proj): Linear(in_features=768, out_features=768, bias=True)\n",
              "        (proj_drop): Dropout(p=0.0, inplace=False)\n",
              "      )\n",
              "      (drop_path): Identity()\n",
              "      (norm2): LayerNorm((768,), eps=1e-06, elementwise_affine=True)\n",
              "      (mlp): Mlp(\n",
              "        (fc1): Linear(in_features=768, out_features=3072, bias=True)\n",
              "        (act): GELU()\n",
              "        (fc2): Linear(in_features=3072, out_features=768, bias=True)\n",
              "        (drop): Dropout(p=0.0, inplace=False)\n",
              "      )\n",
              "    )\n",
              "    (11): Block(\n",
              "      (norm1): LayerNorm((768,), eps=1e-06, elementwise_affine=True)\n",
              "      (attn): Attention(\n",
              "        (qkv): Linear(in_features=768, out_features=2304, bias=True)\n",
              "        (attn_drop): Dropout(p=0.0, inplace=False)\n",
              "        (proj): Linear(in_features=768, out_features=768, bias=True)\n",
              "        (proj_drop): Dropout(p=0.0, inplace=False)\n",
              "      )\n",
              "      (drop_path): Identity()\n",
              "      (norm2): LayerNorm((768,), eps=1e-06, elementwise_affine=True)\n",
              "      (mlp): Mlp(\n",
              "        (fc1): Linear(in_features=768, out_features=3072, bias=True)\n",
              "        (act): GELU()\n",
              "        (fc2): Linear(in_features=3072, out_features=768, bias=True)\n",
              "        (drop): Dropout(p=0.0, inplace=False)\n",
              "      )\n",
              "    )\n",
              "  )\n",
              "  (norm): LayerNorm((768,), eps=1e-06, elementwise_affine=True)\n",
              "  (pre_logits): Identity()\n",
              "  (head): Linear(in_features=768, out_features=4, bias=True)\n",
              ")"
            ]
          },
          "metadata": {
            "tags": []
          },
          "execution_count": 30
        }
      ]
    },
    {
      "cell_type": "code",
      "metadata": {
        "execution": {
          "iopub.status.busy": "2021-06-25T11:06:28.625244Z",
          "iopub.status.idle": "2021-06-25T11:06:28.625788Z"
        },
        "trusted": true,
        "id": "-RwL1P4R4nDM"
      },
      "source": [
        "def run(model, train_loader, validation_loader, optimizer, criterion, device, scheduler=None):\n",
        "    current_patience = 0\n",
        "    previous_valid_loss = None\n",
        "    best_valid_loss = None\n",
        "\n",
        "    for epoch in tqdm(range(EPOCHS)):\n",
        "        print(\"==================================================\")\n",
        "        print(f\"EPOCH {epoch + 1}\")\n",
        "        train_accuracy, train_loss = train(model, train_loader, optimizer, criterion, device, scheduler=None)\n",
        "        print(f\"[TRAIN] EPOCH {epoch + 1} - LOSS: {train_loss}, ACCURACY: {train_accuracy}\")\n",
        "        validation_accuracy, validation_loss = evaluate(model, validation_loader, criterion, device)\n",
        "        print(f\"[VALIDATE] EPOCH {epoch + 1} - LOSS: {validation_loss}, ACCURACY: {validation_accuracy}\")\n",
        "        print(\"==================================================\")\n",
        "\n",
        "        # first iteration\n",
        "        if best_valid_loss is None and previous_valid_loss is None:\n",
        "            best_valid_loss = validation_loss\n",
        "            torch.save(model, \"/content/drive/MyDrive/covid_pneumonia_lungopacity/model.pth\")\n",
        "            previous_valid_loss = validation_loss\n",
        "            continue\n",
        "        # early stopping\n",
        "        if validation_loss >= previous_valid_loss:\n",
        "            current_patience += 1\n",
        "            if current_patience >= 5:\n",
        "                print(\"Early Stop\")\n",
        "                break\n",
        "            previous_valid_loss = validation_loss\n",
        "\n",
        "        # save best model\n",
        "        if validation_loss <= best_valid_loss:\n",
        "            torch.save(model, \"/content/drive/MyDrive/covid_pneumonia_lungopacity/model.pth\")\n",
        "            best_valid_loss = validation_loss\n",
        "            patience = 0"
      ],
      "execution_count": 30,
      "outputs": []
    },
    {
      "cell_type": "code",
      "metadata": {
        "id": "y_lTP23eAOuu",
        "colab": {
          "base_uri": "https://localhost:8080/",
          "height": 1000,
          "referenced_widgets": [
            "55d0cf57cbd449359e29389c20e29bec",
            "fe95298bd69a4ce29bb804ace4b47d4b",
            "f34f372eb70843d68c78bdf3b40e6416",
            "2dfc166a111a42549c846423e96e7e76",
            "a7d0dac346f643929e943e457e5b9803",
            "687340ddc6a74ca48856ac9ccb91c5e2",
            "7d16ec9a83674590a5f4b506e3679483",
            "6a9153688d2a4cb798610fbb146f6ab7"
          ]
        },
        "outputId": "be986e4a-9412-4226-beca-5784f594298c"
      },
      "source": [
        "run(model, train_loader, validation_loader, optimizer, criterion, device, scheduler)"
      ],
      "execution_count": null,
      "outputs": [
        {
          "output_type": "display_data",
          "data": {
            "application/vnd.jupyter.widget-view+json": {
              "model_id": "55d0cf57cbd449359e29389c20e29bec",
              "version_minor": 0,
              "version_major": 2
            },
            "text/plain": [
              "HBox(children=(FloatProgress(value=0.0, max=20.0), HTML(value='')))"
            ]
          },
          "metadata": {
            "tags": []
          }
        },
        {
          "output_type": "stream",
          "text": [
            "==================================================\n",
            "EPOCH 1\n",
            "Batch Number 100: Average Loss 0.6921478500962257 Average Accuracy 0.731875\n",
            "Batch Number 200: Average Loss 0.45670128241181374 Average Accuracy 0.8259375\n",
            "Batch Number 300: Average Loss 0.4079573652148247 Average Accuracy 0.843125\n",
            "Batch Number 400: Average Loss 0.339188366830349 Average Accuracy 0.8778125\n",
            "Batch Number 500: Average Loss 0.33106865726411344 Average Accuracy 0.881875\n",
            "[TRAIN] EPOCH 1 - LOSS: 0.4435815490079376, ACCURACY: 0.8349181973894041\n",
            "[VALIDATE] EPOCH 1 - LOSS: 0.2433501940164993, ACCURACY: 0.911195087387813\n",
            "==================================================\n",
            "==================================================\n",
            "EPOCH 2\n",
            "Batch Number 100: Average Loss 0.31785465583205225 Average Accuracy 0.8890625\n",
            "Batch Number 200: Average Loss 0.2912125682085753 Average Accuracy 0.8971875\n",
            "Batch Number 300: Average Loss 0.31557473927736285 Average Accuracy 0.885625\n",
            "Batch Number 400: Average Loss 0.2776003746688366 Average Accuracy 0.898125\n",
            "Batch Number 500: Average Loss 0.26833083674311636 Average Accuracy 0.9009375\n",
            "[TRAIN] EPOCH 2 - LOSS: 0.29469287664682237, ACCURACY: 0.894276770421121\n",
            "[VALIDATE] EPOCH 2 - LOSS: 0.24847462120007224, ACCURACY: 0.9059990552668871\n",
            "==================================================\n",
            "==================================================\n",
            "EPOCH 3\n",
            "Batch Number 100: Average Loss 0.25426442950963973 Average Accuracy 0.9059375\n",
            "Batch Number 200: Average Loss 0.2399452703818679 Average Accuracy 0.9190625\n",
            "Batch Number 300: Average Loss 0.23862275779247283 Average Accuracy 0.915\n",
            "Batch Number 400: Average Loss 0.2346855365484953 Average Accuracy 0.9159375\n",
            "Batch Number 500: Average Loss 0.2621422765031457 Average Accuracy 0.9075\n",
            "[TRAIN] EPOCH 3 - LOSS: 0.24503871360442267, ACCURACY: 0.912586380012994\n",
            "[VALIDATE] EPOCH 3 - LOSS: 0.19800326278182998, ACCURACY: 0.9291450165328294\n",
            "==================================================\n",
            "==================================================\n",
            "EPOCH 4\n",
            "Batch Number 100: Average Loss 0.23076885044574738 Average Accuracy 0.9203125\n",
            "Batch Number 200: Average Loss 0.20735988255590201 Average Accuracy 0.9215625\n",
            "Batch Number 300: Average Loss 0.22290545154362917 Average Accuracy 0.92375\n",
            "Batch Number 400: Average Loss 0.20529652137309312 Average Accuracy 0.9278125\n",
            "Batch Number 500: Average Loss 0.22734248640015722 Average Accuracy 0.9146875\n",
            "[TRAIN] EPOCH 4 - LOSS: 0.21925497093712384, ACCURACY: 0.9210914889847026\n",
            "[VALIDATE] EPOCH 4 - LOSS: 0.16370271251940016, ACCURACY: 0.9390647142182333\n",
            "==================================================\n",
            "==================================================\n",
            "EPOCH 5\n",
            "Batch Number 100: Average Loss 0.2131021722778678 Average Accuracy 0.919375\n",
            "Batch Number 200: Average Loss 0.21100441232323647 Average Accuracy 0.9215625\n",
            "Batch Number 300: Average Loss 0.2017766582965851 Average Accuracy 0.9259375\n",
            "Batch Number 400: Average Loss 0.18887695416808128 Average Accuracy 0.9321875\n",
            "Batch Number 500: Average Loss 0.20815772980451583 Average Accuracy 0.9246875\n",
            "[TRAIN] EPOCH 5 - LOSS: 0.20454899317426783, ACCURACY: 0.9247534109030772\n",
            "[VALIDATE] EPOCH 5 - LOSS: 0.14737716372778167, ACCURACY: 0.9461502125649504\n",
            "==================================================\n",
            "==================================================\n",
            "EPOCH 6\n",
            "Batch Number 100: Average Loss 0.18895682863891125 Average Accuracy 0.9328125\n",
            "Batch Number 200: Average Loss 0.19833808374591172 Average Accuracy 0.9309375\n",
            "Batch Number 300: Average Loss 0.1771113594248891 Average Accuracy 0.9365625\n",
            "Batch Number 400: Average Loss 0.20799455519765617 Average Accuracy 0.921875\n",
            "Batch Number 500: Average Loss 0.1796326533704996 Average Accuracy 0.9325\n",
            "[TRAIN] EPOCH 6 - LOSS: 0.19122781921705267, ACCURACY: 0.9301872305238911\n",
            "[VALIDATE] EPOCH 6 - LOSS: 0.1956808888839919, ACCURACY: 0.9338686820973076\n",
            "==================================================\n",
            "==================================================\n",
            "EPOCH 7\n",
            "Batch Number 100: Average Loss 0.183259368352592 Average Accuracy 0.9325\n",
            "Batch Number 200: Average Loss 0.18347863018512725 Average Accuracy 0.9340625\n",
            "Batch Number 300: Average Loss 0.1887197043001652 Average Accuracy 0.9278125\n",
            "Batch Number 400: Average Loss 0.17145454179495573 Average Accuracy 0.9346875\n",
            "Batch Number 500: Average Loss 0.17878630746155977 Average Accuracy 0.9321875\n",
            "[TRAIN] EPOCH 7 - LOSS: 0.18169633513492234, ACCURACY: 0.9316047486858425\n",
            "[VALIDATE] EPOCH 7 - LOSS: 0.15325966766521112, ACCURACY: 0.9385923476617856\n",
            "==================================================\n",
            "==================================================\n",
            "EPOCH 8\n",
            "Batch Number 100: Average Loss 0.1764774743281305 Average Accuracy 0.9384375\n",
            "Batch Number 200: Average Loss 0.17812535597011447 Average Accuracy 0.9371875\n",
            "Batch Number 300: Average Loss 0.158384865000844 Average Accuracy 0.94375\n",
            "Batch Number 400: Average Loss 0.1828015146777034 Average Accuracy 0.9325\n",
            "Batch Number 500: Average Loss 0.15805480435490607 Average Accuracy 0.9440625\n",
            "[TRAIN] EPOCH 8 - LOSS: 0.17077540073122055, ACCURACY: 0.9389285925225916\n",
            "[VALIDATE] EPOCH 8 - LOSS: 0.17904525286337333, ACCURACY: 0.9395370807746811\n",
            "==================================================\n",
            "==================================================\n",
            "EPOCH 9\n",
            "Batch Number 100: Average Loss 0.16839881076477467 Average Accuracy 0.9375\n",
            "Batch Number 200: Average Loss 0.1570938903838396 Average Accuracy 0.9428125\n",
            "Batch Number 300: Average Loss 0.15561032209545375 Average Accuracy 0.94125\n",
            "Batch Number 400: Average Loss 0.17661518402397633 Average Accuracy 0.9321875\n",
            "Batch Number 500: Average Loss 0.17432736560702325 Average Accuracy 0.9378125\n",
            "[TRAIN] EPOCH 9 - LOSS: 0.1670657850573507, ACCURACY: 0.9384560864686079\n",
            "[VALIDATE] EPOCH 9 - LOSS: 0.15228497530264196, ACCURACY: 0.9414265470004723\n",
            "==================================================\n",
            "==================================================\n",
            "EPOCH 10\n",
            "Batch Number 100: Average Loss 0.15999147810041905 Average Accuracy 0.9453125\n",
            "Batch Number 200: Average Loss 0.1508672248572111 Average Accuracy 0.9471875\n",
            "Batch Number 300: Average Loss 0.15774233520030975 Average Accuracy 0.94375\n",
            "Batch Number 400: Average Loss 0.16106422858312727 Average Accuracy 0.943125\n",
            "Batch Number 500: Average Loss 0.16541506882756948 Average Accuracy 0.93625\n",
            "[TRAIN] EPOCH 10 - LOSS: 0.15912544786543498, ACCURACY: 0.9428858307247061\n",
            "[VALIDATE] EPOCH 10 - LOSS: 0.1599293814054621, ACCURACY: 0.9414265470004723\n",
            "==================================================\n",
            "==================================================\n",
            "EPOCH 11\n",
            "Batch Number 100: Average Loss 0.1371473622508347 Average Accuracy 0.9453125\n",
            "Batch Number 200: Average Loss 0.13974570091813804 Average Accuracy 0.9475\n",
            "Batch Number 300: Average Loss 0.14911586636677385 Average Accuracy 0.946875\n",
            "Batch Number 400: Average Loss 0.1731543226260692 Average Accuracy 0.9365625\n",
            "Batch Number 500: Average Loss 0.16457535043358804 Average Accuracy 0.93875\n",
            "[TRAIN] EPOCH 11 - LOSS: 0.15336474273178094, ACCURACY: 0.9429448939814541\n",
            "[VALIDATE] EPOCH 11 - LOSS: 0.1428692650133327, ACCURACY: 0.9461502125649504\n",
            "==================================================\n",
            "==================================================\n",
            "EPOCH 12\n",
            "Batch Number 100: Average Loss 0.1374138124100864 Average Accuracy 0.949375\n",
            "Batch Number 200: Average Loss 0.1652073661889881 Average Accuracy 0.9365625\n",
            "Batch Number 300: Average Loss 0.1482133192755282 Average Accuracy 0.9475\n",
            "Batch Number 400: Average Loss 0.15567789466120302 Average Accuracy 0.946875\n",
            "Batch Number 500: Average Loss 0.14038850735872985 Average Accuracy 0.9496875\n",
            "[TRAIN] EPOCH 12 - LOSS: 0.14876686906055459, ACCURACY: 0.9464296261295848\n",
            "[VALIDATE] EPOCH 12 - LOSS: 0.14607444386095253, ACCURACY: 0.9485120453471895\n",
            "==================================================\n",
            "==================================================\n",
            "EPOCH 13\n",
            "Batch Number 100: Average Loss 0.14761987496167422 Average Accuracy 0.945625\n",
            "Batch Number 200: Average Loss 0.1453267305251211 Average Accuracy 0.948125\n",
            "Batch Number 300: Average Loss 0.1393155916593969 Average Accuracy 0.9496875\n",
            "Batch Number 400: Average Loss 0.13585313316434622 Average Accuracy 0.95375\n",
            "Batch Number 500: Average Loss 0.14178562381304802 Average Accuracy 0.95125\n",
            "[TRAIN] EPOCH 13 - LOSS: 0.14122504666096197, ACCURACY: 0.9497371685074715\n",
            "[VALIDATE] EPOCH 13 - LOSS: 0.16421240653648084, ACCURACY: 0.9409541804440246\n",
            "==================================================\n",
            "==================================================\n",
            "EPOCH 14\n",
            "Batch Number 100: Average Loss 0.13987296970561147 Average Accuracy 0.9459375\n",
            "Batch Number 200: Average Loss 0.15087915167212487 Average Accuracy 0.9440625\n",
            "Batch Number 300: Average Loss 0.12255237367004156 Average Accuracy 0.9559375\n",
            "Batch Number 400: Average Loss 0.1436736095137894 Average Accuracy 0.9446875\n",
            "Batch Number 500: Average Loss 0.1513171524554491 Average Accuracy 0.9453125\n",
            "[TRAIN] EPOCH 14 - LOSS: 0.14087128242003327, ACCURACY: 0.9477290177780403\n",
            "[VALIDATE] EPOCH 14 - LOSS: 0.15253754428573954, ACCURACY: 0.944733112895607\n",
            "==================================================\n",
            "==================================================\n",
            "EPOCH 15\n",
            "Batch Number 100: Average Loss 0.13075571142137052 Average Accuracy 0.9528125\n",
            "Batch Number 200: Average Loss 0.13545797819271685 Average Accuracy 0.95125\n",
            "Batch Number 300: Average Loss 0.12702204816509038 Average Accuracy 0.95625\n",
            "Batch Number 400: Average Loss 0.11318847972899676 Average Accuracy 0.9584375\n",
            "Batch Number 500: Average Loss 0.15667848637327553 Average Accuracy 0.9434375\n",
            "[TRAIN] EPOCH 15 - LOSS: 0.13148253214686126, ACCURACY: 0.9529856476286103\n",
            "[VALIDATE] EPOCH 15 - LOSS: 0.15515533976479254, ACCURACY: 0.9499291450165328\n",
            "==================================================\n",
            "==================================================\n",
            "EPOCH 16\n",
            "Batch Number 100: Average Loss 0.13775120011530817 Average Accuracy 0.95125\n",
            "Batch Number 200: Average Loss 0.13442725040949882 Average Accuracy 0.9475\n",
            "Batch Number 300: Average Loss 0.12077689364552498 Average Accuracy 0.9578125\n",
            "Batch Number 400: Average Loss 0.13460790089331567 Average Accuracy 0.953125\n",
            "Batch Number 500: Average Loss 0.13950253205373883 Average Accuracy 0.950625\n",
            "[TRAIN] EPOCH 16 - LOSS: 0.13183057505883417, ACCURACY: 0.9527493946016183\n",
            "[VALIDATE] EPOCH 16 - LOSS: 0.15208192505359427, ACCURACY: 0.9466225791213982\n",
            "==================================================\n",
            "==================================================\n",
            "EPOCH 17\n",
            "Batch Number 100: Average Loss 0.12052950069308281 Average Accuracy 0.95375\n",
            "Batch Number 200: Average Loss 0.12402132403105498 Average Accuracy 0.9515625\n",
            "Batch Number 300: Average Loss 0.11915733392350375 Average Accuracy 0.95625\n",
            "Batch Number 400: Average Loss 0.12027563148643822 Average Accuracy 0.9578125\n",
            "Batch Number 500: Average Loss 0.1278482187585905 Average Accuracy 0.95125\n",
            "[TRAIN] EPOCH 17 - LOSS: 0.12272949341930589, ACCURACY: 0.9544622290473097\n",
            "[VALIDATE] EPOCH 17 - LOSS: 0.14971784767069257, ACCURACY: 0.9532357109116675\n",
            "==================================================\n",
            "==================================================\n",
            "EPOCH 18\n",
            "Batch Number 100: Average Loss 0.12422314773313702 Average Accuracy 0.955\n",
            "Batch Number 200: Average Loss 0.11437693781219423 Average Accuracy 0.958125\n",
            "Batch Number 300: Average Loss 0.11566278996877372 Average Accuracy 0.959375\n",
            "Batch Number 400: Average Loss 0.12072398715652526 Average Accuracy 0.95625\n",
            "Batch Number 500: Average Loss 0.12595688523724674 Average Accuracy 0.954375\n",
            "[TRAIN] EPOCH 18 - LOSS: 0.12072521066468841, ACCURACY: 0.9563522532632449\n",
            "[VALIDATE] EPOCH 18 - LOSS: 0.16260816452246327, ACCURACY: 0.9442607463391592\n",
            "==================================================\n",
            "==================================================\n",
            "EPOCH 19\n",
            "Batch Number 100: Average Loss 0.12226265056058765 Average Accuracy 0.953125\n",
            "Batch Number 200: Average Loss 0.10835902942344547 Average Accuracy 0.95875\n",
            "Batch Number 300: Average Loss 0.11362125303596259 Average Accuracy 0.9584375\n",
            "Batch Number 400: Average Loss 0.12034842281602323 Average Accuracy 0.95625\n",
            "Batch Number 500: Average Loss 0.11350708099082113 Average Accuracy 0.95875\n",
            "[TRAIN] EPOCH 19 - LOSS: 0.11489995491080303, ACCURACY: 0.9568247593172288\n",
            "[VALIDATE] EPOCH 19 - LOSS: 0.17884662732092746, ACCURACY: 0.944733112895607\n",
            "==================================================\n",
            "==================================================\n",
            "EPOCH 20\n",
            "Batch Number 100: Average Loss 0.09916085504926742 Average Accuracy 0.9646875\n",
            "Batch Number 200: Average Loss 0.108626952720806 Average Accuracy 0.9609375\n",
            "Batch Number 300: Average Loss 0.11618996352888644 Average Accuracy 0.9553125\n",
            "Batch Number 400: Average Loss 0.11739308906719088 Average Accuracy 0.9559375\n",
            "Batch Number 500: Average Loss 0.12975065673235803 Average Accuracy 0.9525\n",
            "[TRAIN] EPOCH 20 - LOSS: 0.1151274422772299, ACCURACY: 0.9579469611954403\n",
            "[VALIDATE] EPOCH 20 - LOSS: 0.17176691779116196, ACCURACY: 0.9414265470004723\n",
            "==================================================\n",
            "\n"
          ],
          "name": "stdout"
        }
      ]
    },
    {
      "cell_type": "code",
      "metadata": {
        "id": "wNwpMPvK-zGN"
      },
      "source": [
        "model = torch.load(\"/content/drive/MyDrive/covid_pneumonia_lungopacity/model.pth\")"
      ],
      "execution_count": 31,
      "outputs": []
    },
    {
      "cell_type": "code",
      "metadata": {
        "id": "uipR3C9wRVs9"
      },
      "source": [
        "def predict(model, test_loader, criterion, device):\n",
        "    total_loss = 0.0\n",
        "    preds = list()\n",
        "    targets = list()\n",
        "    \n",
        "    model.eval()\n",
        "    for inputs, labels in test_loader:\n",
        "        inputs, labels = inputs.to(device), labels.to(device)\n",
        "        # forward\n",
        "        output = model(inputs)\n",
        "        # calculate loss\n",
        "        loss = criterion(output, labels)\n",
        "        preds += torch.topk(output, 1)[1].cpu().detach().numpy().tolist()\n",
        "        targets += labels.cpu().detach().numpy().tolist()\n",
        "        total_loss += loss.item()\n",
        "        \n",
        "    return total_loss/len(test_loader), preds, targets"
      ],
      "execution_count": 38,
      "outputs": []
    },
    {
      "cell_type": "code",
      "metadata": {
        "id": "6eEQSpRiV-No"
      },
      "source": [
        "test_loss, preds, targets = predict(model, test_loader, criterion, device)"
      ],
      "execution_count": 39,
      "outputs": []
    },
    {
      "cell_type": "code",
      "metadata": {
        "colab": {
          "base_uri": "https://localhost:8080/"
        },
        "id": "DEIfrylLUjAi",
        "outputId": "b676c9f2-a687-4fdc-b36a-2df9569a0ea6"
      },
      "source": [
        "test_loss"
      ],
      "execution_count": 40,
      "outputs": [
        {
          "output_type": "execute_result",
          "data": {
            "text/plain": [
              "0.12432066815611172"
            ]
          },
          "metadata": {
            "tags": []
          },
          "execution_count": 40
        }
      ]
    },
    {
      "cell_type": "code",
      "metadata": {
        "id": "EhQfuH7FWIO7"
      },
      "source": [
        "from sklearn.metrics import accuracy_score, confusion_matrix"
      ],
      "execution_count": 41,
      "outputs": []
    },
    {
      "cell_type": "code",
      "metadata": {
        "colab": {
          "base_uri": "https://localhost:8080/"
        },
        "id": "3Q02fmMHWGD8",
        "outputId": "0c242359-78eb-4f7b-db24-457c0281df98"
      },
      "source": [
        "accuracy_score(preds, targets) * 100"
      ],
      "execution_count": 43,
      "outputs": [
        {
          "output_type": "execute_result",
          "data": {
            "text/plain": [
              "95.79593764761455"
            ]
          },
          "metadata": {
            "tags": []
          },
          "execution_count": 43
        }
      ]
    },
    {
      "cell_type": "code",
      "metadata": {
        "id": "IMyFfPj5WOpc"
      },
      "source": [
        "cm = confusion_matrix(targets, preds)"
      ],
      "execution_count": 49,
      "outputs": []
    },
    {
      "cell_type": "code",
      "metadata": {
        "id": "bxVDDg0KW-RM"
      },
      "source": [
        "df_cm = pd.DataFrame(cm, index = [i for i in [\"lung opacity\", \"normal\", \"viral pneumonia\", \"covid\"]], columns = [i for i in [\"lung opacity\", \"normal\", \"viral pneumonia\", \"covid\"]])"
      ],
      "execution_count": 50,
      "outputs": []
    },
    {
      "cell_type": "code",
      "metadata": {
        "colab": {
          "base_uri": "https://localhost:8080/",
          "height": 461
        },
        "id": "TxlJG9AwW6xN",
        "outputId": "b4a01a1a-ea38-4e6a-9874-5239bf9311fe"
      },
      "source": [
        "plt.figure(figsize = (10,7))\n",
        "plt.title(\"Confusion Matrix for Test Data\")\n",
        "sn.heatmap(df_cm, annot=True, cmap='Blues', fmt='g')"
      ],
      "execution_count": 51,
      "outputs": [
        {
          "output_type": "execute_result",
          "data": {
            "text/plain": [
              "<matplotlib.axes._subplots.AxesSubplot at 0x7f38c1dc0f90>"
            ]
          },
          "metadata": {
            "tags": []
          },
          "execution_count": 51
        },
        {
          "output_type": "display_data",
          "data": {
            "image/png": "[encoded data removed]",
            "text/plain": [
              "<Figure size 720x504 with 2 Axes>"
            ]
          },
          "metadata": {
            "tags": [],
            "needs_background": "light"
          }
        }
      ]
    }
  ]
}